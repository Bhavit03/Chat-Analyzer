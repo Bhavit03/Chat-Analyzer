{
 "cells": [
  {
   "cell_type": "code",
   "execution_count": 2,
   "id": "0b9c7ba3",
   "metadata": {},
   "outputs": [],
   "source": [
    "import re\n",
    "import pandas as pd"
   ]
  },
  {
   "cell_type": "code",
   "execution_count": 3,
   "id": "e82eb561",
   "metadata": {},
   "outputs": [],
   "source": [
    "f=open('WhatsApp Chat with E1 ELECTRICAL.txt','r',encoding='utf-8')"
   ]
  },
  {
   "cell_type": "code",
   "execution_count": 4,
   "id": "779ed2d0",
   "metadata": {},
   "outputs": [],
   "source": [
    "data=f.read()"
   ]
  },
  {
   "cell_type": "code",
   "execution_count": 5,
   "id": "1471b9f1",
   "metadata": {},
   "outputs": [],
   "source": [
    "# print(data)"
   ]
  },
  {
   "cell_type": "code",
   "execution_count": 6,
   "id": "1a675650",
   "metadata": {},
   "outputs": [],
   "source": [
    "pattern='\\d{1,2}/\\d{1,2}/\\d{4},\\s\\d{1,2}:\\d{2}\\s[apm]{2}\\s-\\s'"
   ]
  },
  {
   "cell_type": "code",
   "execution_count": 7,
   "id": "52ffa7e4",
   "metadata": {},
   "outputs": [
    {
     "data": {
      "text/plain": [
       "1706"
      ]
     },
     "execution_count": 7,
     "metadata": {},
     "output_type": "execute_result"
    }
   ],
   "source": [
    "messages=re.split(pattern,data)[1:]\n",
    "len(messages)"
   ]
  },
  {
   "cell_type": "code",
   "execution_count": 8,
   "id": "229cbd43",
   "metadata": {},
   "outputs": [
    {
     "data": {
      "text/plain": [
       "1706"
      ]
     },
     "execution_count": 8,
     "metadata": {},
     "output_type": "execute_result"
    }
   ],
   "source": [
    "dates=re.findall(pattern,data)\n",
    "len(dates)"
   ]
  },
  {
   "cell_type": "code",
   "execution_count": 9,
   "id": "784f7330",
   "metadata": {},
   "outputs": [],
   "source": [
    "df=pd.DataFrame({'user_message':messages,'message_date':dates})\n",
    "df['message_date']=pd.to_datetime(df['message_date'],format='%d/%m/%Y, %I:%M %p - ')"
   ]
  },
  {
   "cell_type": "code",
   "execution_count": 10,
   "id": "a9b797e4",
   "metadata": {},
   "outputs": [
    {
     "data": {
      "text/html": [
       "<div>\n",
       "<style scoped>\n",
       "    .dataframe tbody tr th:only-of-type {\n",
       "        vertical-align: middle;\n",
       "    }\n",
       "\n",
       "    .dataframe tbody tr th {\n",
       "        vertical-align: top;\n",
       "    }\n",
       "\n",
       "    .dataframe thead th {\n",
       "        text-align: right;\n",
       "    }\n",
       "</style>\n",
       "<table border=\"1\" class=\"dataframe\">\n",
       "  <thead>\n",
       "    <tr style=\"text-align: right;\">\n",
       "      <th></th>\n",
       "      <th>user_message</th>\n",
       "      <th>date</th>\n",
       "    </tr>\n",
       "  </thead>\n",
       "  <tbody>\n",
       "    <tr>\n",
       "      <th>0</th>\n",
       "      <td>Messages and calls are end-to-end encrypted. N...</td>\n",
       "      <td>2022-08-29 11:19:00</td>\n",
       "    </tr>\n",
       "    <tr>\n",
       "      <th>1</th>\n",
       "      <td>Divyanshbhatt created group \"E1 ELECTRICAL ⚡⚡\"\\n</td>\n",
       "      <td>2022-08-29 11:18:00</td>\n",
       "    </tr>\n",
       "    <tr>\n",
       "      <th>2</th>\n",
       "      <td>Jagga added you\\n</td>\n",
       "      <td>2022-08-29 11:19:00</td>\n",
       "    </tr>\n",
       "    <tr>\n",
       "      <th>3</th>\n",
       "      <td>Divyanshbhatt: Bhai apne naam likhdo hi likhke...</td>\n",
       "      <td>2022-08-29 11:20:00</td>\n",
       "    </tr>\n",
       "    <tr>\n",
       "      <th>4</th>\n",
       "      <td>Jagga added Yatharth Garg\\n</td>\n",
       "      <td>2022-08-29 11:20:00</td>\n",
       "    </tr>\n",
       "  </tbody>\n",
       "</table>\n",
       "</div>"
      ],
      "text/plain": [
       "                                        user_message                date\n",
       "0  Messages and calls are end-to-end encrypted. N... 2022-08-29 11:19:00\n",
       "1   Divyanshbhatt created group \"E1 ELECTRICAL ⚡⚡\"\\n 2022-08-29 11:18:00\n",
       "2                                  Jagga added you\\n 2022-08-29 11:19:00\n",
       "3  Divyanshbhatt: Bhai apne naam likhdo hi likhke... 2022-08-29 11:20:00\n",
       "4                        Jagga added Yatharth Garg\\n 2022-08-29 11:20:00"
      ]
     },
     "execution_count": 10,
     "metadata": {},
     "output_type": "execute_result"
    }
   ],
   "source": [
    "df.rename(columns={'message_date':'date'},inplace=True)\n",
    "df.head()"
   ]
  },
  {
   "cell_type": "code",
   "execution_count": 11,
   "id": "0c6be4e3",
   "metadata": {},
   "outputs": [
    {
     "data": {
      "text/plain": [
       "(1706, 2)"
      ]
     },
     "execution_count": 11,
     "metadata": {},
     "output_type": "execute_result"
    }
   ],
   "source": [
    "df.shape"
   ]
  },
  {
   "cell_type": "code",
   "execution_count": 12,
   "id": "2aa52ced",
   "metadata": {},
   "outputs": [
    {
     "data": {
      "text/html": [
       "<div>\n",
       "<style scoped>\n",
       "    .dataframe tbody tr th:only-of-type {\n",
       "        vertical-align: middle;\n",
       "    }\n",
       "\n",
       "    .dataframe tbody tr th {\n",
       "        vertical-align: top;\n",
       "    }\n",
       "\n",
       "    .dataframe thead th {\n",
       "        text-align: right;\n",
       "    }\n",
       "</style>\n",
       "<table border=\"1\" class=\"dataframe\">\n",
       "  <thead>\n",
       "    <tr style=\"text-align: right;\">\n",
       "      <th></th>\n",
       "      <th>date</th>\n",
       "      <th>user</th>\n",
       "      <th>message</th>\n",
       "    </tr>\n",
       "  </thead>\n",
       "  <tbody>\n",
       "    <tr>\n",
       "      <th>0</th>\n",
       "      <td>2022-08-29 11:19:00</td>\n",
       "      <td>group_notifications</td>\n",
       "      <td>Messages and calls are end-to-end encrypted. N...</td>\n",
       "    </tr>\n",
       "    <tr>\n",
       "      <th>1</th>\n",
       "      <td>2022-08-29 11:18:00</td>\n",
       "      <td>group_notifications</td>\n",
       "      <td>Divyanshbhatt created group \"E1 ELECTRICAL ⚡⚡\"\\n</td>\n",
       "    </tr>\n",
       "    <tr>\n",
       "      <th>2</th>\n",
       "      <td>2022-08-29 11:19:00</td>\n",
       "      <td>group_notifications</td>\n",
       "      <td>Jagga added you\\n</td>\n",
       "    </tr>\n",
       "    <tr>\n",
       "      <th>3</th>\n",
       "      <td>2022-08-29 11:20:00</td>\n",
       "      <td>Divyanshbhatt</td>\n",
       "      <td>Bhai apne naam likhdo hi likhke no. Save nhi h...</td>\n",
       "    </tr>\n",
       "    <tr>\n",
       "      <th>4</th>\n",
       "      <td>2022-08-29 11:20:00</td>\n",
       "      <td>group_notifications</td>\n",
       "      <td>Jagga added Yatharth Garg\\n</td>\n",
       "    </tr>\n",
       "  </tbody>\n",
       "</table>\n",
       "</div>"
      ],
      "text/plain": [
       "                 date                 user  \\\n",
       "0 2022-08-29 11:19:00  group_notifications   \n",
       "1 2022-08-29 11:18:00  group_notifications   \n",
       "2 2022-08-29 11:19:00  group_notifications   \n",
       "3 2022-08-29 11:20:00        Divyanshbhatt   \n",
       "4 2022-08-29 11:20:00  group_notifications   \n",
       "\n",
       "                                             message  \n",
       "0  Messages and calls are end-to-end encrypted. N...  \n",
       "1   Divyanshbhatt created group \"E1 ELECTRICAL ⚡⚡\"\\n  \n",
       "2                                  Jagga added you\\n  \n",
       "3  Bhai apne naam likhdo hi likhke no. Save nhi h...  \n",
       "4                        Jagga added Yatharth Garg\\n  "
      ]
     },
     "execution_count": 12,
     "metadata": {},
     "output_type": "execute_result"
    }
   ],
   "source": [
    "# separating users and messages\n",
    "users=[]\n",
    "messages=[]\n",
    "for message in df['user_message']:\n",
    "    entry=re.split('([\\w\\W]+?):\\s',message)\n",
    "    if entry[1:]:\n",
    "        users.append(entry[1])\n",
    "        messages.append(entry[2])\n",
    "    else:\n",
    "        users.append('group_notifications')\n",
    "        messages.append(entry[0])\n",
    "        \n",
    "df['user'] = users\n",
    "df['message']=messages\n",
    "df.drop(columns=['user_message'],inplace=True)\n",
    "df.head()"
   ]
  },
  {
   "cell_type": "code",
   "execution_count": 13,
   "id": "588b2884",
   "metadata": {},
   "outputs": [],
   "source": [
    "df['year']=df['date'].dt.year"
   ]
  },
  {
   "cell_type": "code",
   "execution_count": 14,
   "id": "764a9b3c",
   "metadata": {},
   "outputs": [],
   "source": [
    "df['month']=df['date'].dt.month"
   ]
  },
  {
   "cell_type": "code",
   "execution_count": 15,
   "id": "621782d2",
   "metadata": {},
   "outputs": [],
   "source": [
    "df['day']=df['date'].dt.day"
   ]
  },
  {
   "cell_type": "code",
   "execution_count": 16,
   "id": "84406928",
   "metadata": {},
   "outputs": [],
   "source": [
    "df['hour']=df['date'].dt.hour"
   ]
  },
  {
   "cell_type": "code",
   "execution_count": 17,
   "id": "ea2f8653",
   "metadata": {},
   "outputs": [],
   "source": [
    "df['minute']=df['date'].dt.minute"
   ]
  },
  {
   "cell_type": "code",
   "execution_count": 18,
   "id": "1fe6a33e",
   "metadata": {},
   "outputs": [],
   "source": [
    "# df.drop(columns=['date'],inplace=True)"
   ]
  },
  {
   "cell_type": "code",
   "execution_count": 19,
   "id": "4e0aca7d",
   "metadata": {},
   "outputs": [
    {
     "data": {
      "text/html": [
       "<div>\n",
       "<style scoped>\n",
       "    .dataframe tbody tr th:only-of-type {\n",
       "        vertical-align: middle;\n",
       "    }\n",
       "\n",
       "    .dataframe tbody tr th {\n",
       "        vertical-align: top;\n",
       "    }\n",
       "\n",
       "    .dataframe thead th {\n",
       "        text-align: right;\n",
       "    }\n",
       "</style>\n",
       "<table border=\"1\" class=\"dataframe\">\n",
       "  <thead>\n",
       "    <tr style=\"text-align: right;\">\n",
       "      <th></th>\n",
       "      <th>date</th>\n",
       "      <th>user</th>\n",
       "      <th>message</th>\n",
       "      <th>year</th>\n",
       "      <th>month</th>\n",
       "      <th>day</th>\n",
       "      <th>hour</th>\n",
       "      <th>minute</th>\n",
       "    </tr>\n",
       "  </thead>\n",
       "  <tbody>\n",
       "    <tr>\n",
       "      <th>0</th>\n",
       "      <td>2022-08-29 11:19:00</td>\n",
       "      <td>group_notifications</td>\n",
       "      <td>Messages and calls are end-to-end encrypted. N...</td>\n",
       "      <td>2022</td>\n",
       "      <td>8</td>\n",
       "      <td>29</td>\n",
       "      <td>11</td>\n",
       "      <td>19</td>\n",
       "    </tr>\n",
       "    <tr>\n",
       "      <th>1</th>\n",
       "      <td>2022-08-29 11:18:00</td>\n",
       "      <td>group_notifications</td>\n",
       "      <td>Divyanshbhatt created group \"E1 ELECTRICAL ⚡⚡\"\\n</td>\n",
       "      <td>2022</td>\n",
       "      <td>8</td>\n",
       "      <td>29</td>\n",
       "      <td>11</td>\n",
       "      <td>18</td>\n",
       "    </tr>\n",
       "    <tr>\n",
       "      <th>2</th>\n",
       "      <td>2022-08-29 11:19:00</td>\n",
       "      <td>group_notifications</td>\n",
       "      <td>Jagga added you\\n</td>\n",
       "      <td>2022</td>\n",
       "      <td>8</td>\n",
       "      <td>29</td>\n",
       "      <td>11</td>\n",
       "      <td>19</td>\n",
       "    </tr>\n",
       "    <tr>\n",
       "      <th>3</th>\n",
       "      <td>2022-08-29 11:20:00</td>\n",
       "      <td>Divyanshbhatt</td>\n",
       "      <td>Bhai apne naam likhdo hi likhke no. Save nhi h...</td>\n",
       "      <td>2022</td>\n",
       "      <td>8</td>\n",
       "      <td>29</td>\n",
       "      <td>11</td>\n",
       "      <td>20</td>\n",
       "    </tr>\n",
       "    <tr>\n",
       "      <th>4</th>\n",
       "      <td>2022-08-29 11:20:00</td>\n",
       "      <td>group_notifications</td>\n",
       "      <td>Jagga added Yatharth Garg\\n</td>\n",
       "      <td>2022</td>\n",
       "      <td>8</td>\n",
       "      <td>29</td>\n",
       "      <td>11</td>\n",
       "      <td>20</td>\n",
       "    </tr>\n",
       "  </tbody>\n",
       "</table>\n",
       "</div>"
      ],
      "text/plain": [
       "                 date                 user  \\\n",
       "0 2022-08-29 11:19:00  group_notifications   \n",
       "1 2022-08-29 11:18:00  group_notifications   \n",
       "2 2022-08-29 11:19:00  group_notifications   \n",
       "3 2022-08-29 11:20:00        Divyanshbhatt   \n",
       "4 2022-08-29 11:20:00  group_notifications   \n",
       "\n",
       "                                             message  year  month  day  hour  \\\n",
       "0  Messages and calls are end-to-end encrypted. N...  2022      8   29    11   \n",
       "1   Divyanshbhatt created group \"E1 ELECTRICAL ⚡⚡\"\\n  2022      8   29    11   \n",
       "2                                  Jagga added you\\n  2022      8   29    11   \n",
       "3  Bhai apne naam likhdo hi likhke no. Save nhi h...  2022      8   29    11   \n",
       "4                        Jagga added Yatharth Garg\\n  2022      8   29    11   \n",
       "\n",
       "   minute  \n",
       "0      19  \n",
       "1      18  \n",
       "2      19  \n",
       "3      20  \n",
       "4      20  "
      ]
     },
     "execution_count": 19,
     "metadata": {},
     "output_type": "execute_result"
    }
   ],
   "source": [
    "df.head(5)"
   ]
  },
  {
   "cell_type": "code",
   "execution_count": 20,
   "id": "5af2943e",
   "metadata": {},
   "outputs": [
    {
     "data": {
      "text/plain": [
       "int"
      ]
     },
     "execution_count": 20,
     "metadata": {},
     "output_type": "execute_result"
    }
   ],
   "source": [
    "type(df[df['user']=='Jagga'].shape[0])"
   ]
  },
  {
   "cell_type": "code",
   "execution_count": 21,
   "id": "cf8c4d52",
   "metadata": {},
   "outputs": [],
   "source": [
    "words=[]\n",
    "for message in df['message']:\n",
    "    words.extend(message.split())"
   ]
  },
  {
   "cell_type": "code",
   "execution_count": 22,
   "id": "9f802300",
   "metadata": {},
   "outputs": [
    {
     "data": {
      "text/plain": [
       "8761"
      ]
     },
     "execution_count": 22,
     "metadata": {},
     "output_type": "execute_result"
    }
   ],
   "source": [
    "len(words)"
   ]
  },
  {
   "cell_type": "code",
   "execution_count": 23,
   "id": "64133ed4",
   "metadata": {},
   "outputs": [
    {
     "data": {
      "text/plain": [
       "int"
      ]
     },
     "execution_count": 23,
     "metadata": {},
     "output_type": "execute_result"
    }
   ],
   "source": [
    "type(len(words))"
   ]
  },
  {
   "cell_type": "code",
   "execution_count": 24,
   "id": "86739e34",
   "metadata": {},
   "outputs": [],
   "source": [
    "def fetch_stats(selected_user,df):\n",
    "    if selected_user!='overall':\n",
    "        df = df[df['user'] == selected_user]\n",
    "    num_messages = df.shape[0]\n",
    "    words = []\n",
    "    for message in df['message']:\n",
    "        words.extend(message.split())\n",
    "\n",
    "    return [num_messages, len(words)]"
   ]
  },
  {
   "cell_type": "code",
   "execution_count": 25,
   "id": "34669512",
   "metadata": {},
   "outputs": [],
   "source": [
    "[n,w]=fetch_stats('Jagga',df)"
   ]
  },
  {
   "cell_type": "code",
   "execution_count": 26,
   "id": "ea024ff8",
   "metadata": {},
   "outputs": [
    {
     "data": {
      "text/plain": [
       "int"
      ]
     },
     "execution_count": 26,
     "metadata": {},
     "output_type": "execute_result"
    }
   ],
   "source": [
    "type(n)"
   ]
  },
  {
   "cell_type": "code",
   "execution_count": 27,
   "id": "ff282864",
   "metadata": {},
   "outputs": [],
   "source": [
    "user_list=df['user'].unique().tolist()"
   ]
  },
  {
   "cell_type": "code",
   "execution_count": 28,
   "id": "aeb176c8",
   "metadata": {},
   "outputs": [
    {
     "data": {
      "text/plain": [
       "['group_notifications',\n",
       " 'Divyanshbhatt',\n",
       " 'Jagga',\n",
       " '+91 99569 66499',\n",
       " 'Hunterbelt',\n",
       " 'Shreyansh EE',\n",
       " '+91 88245 72846',\n",
       " 'Anmol Bansal',\n",
       " 'Chinmay EE',\n",
       " 'Yatharth Garg',\n",
       " '+91 85280 00165',\n",
       " '+91 94622 55556',\n",
       " 'Vasu',\n",
       " '+91 6375 167 116',\n",
       " 'Bhavit.',\n",
       " '+91 70142 80014',\n",
       " '+91 6378 839 578',\n",
       " 'Yogesh Saini',\n",
       " '+91 77280 94148',\n",
       " '+91 820 988 7727',\n",
       " '+91 89559 61367']"
      ]
     },
     "execution_count": 28,
     "metadata": {},
     "output_type": "execute_result"
    }
   ],
   "source": [
    "user_list"
   ]
  },
  {
   "cell_type": "code",
   "execution_count": 29,
   "id": "f5f08ae8",
   "metadata": {},
   "outputs": [],
   "source": [
    "temp=df[df['user']!='group_notifications']\n",
    "temp=temp[temp['message'] != '<Media omitted>\\n']\n"
   ]
  },
  {
   "cell_type": "code",
   "execution_count": 30,
   "id": "e05b32f7",
   "metadata": {},
   "outputs": [],
   "source": [
    "# !pip install collection"
   ]
  },
  {
   "cell_type": "code",
   "execution_count": 31,
   "id": "b84f7cba",
   "metadata": {},
   "outputs": [],
   "source": [
    "f=open('hinglish.txt')"
   ]
  },
  {
   "cell_type": "code",
   "execution_count": 32,
   "id": "4f4e4fd7",
   "metadata": {},
   "outputs": [],
   "source": [
    "stopwords=f.read()"
   ]
  },
  {
   "cell_type": "code",
   "execution_count": 33,
   "id": "bdb2cecd",
   "metadata": {},
   "outputs": [
    {
     "data": {
      "text/html": [
       "<div>\n",
       "<style scoped>\n",
       "    .dataframe tbody tr th:only-of-type {\n",
       "        vertical-align: middle;\n",
       "    }\n",
       "\n",
       "    .dataframe tbody tr th {\n",
       "        vertical-align: top;\n",
       "    }\n",
       "\n",
       "    .dataframe thead th {\n",
       "        text-align: right;\n",
       "    }\n",
       "</style>\n",
       "<table border=\"1\" class=\"dataframe\">\n",
       "  <thead>\n",
       "    <tr style=\"text-align: right;\">\n",
       "      <th></th>\n",
       "      <th>date</th>\n",
       "      <th>user</th>\n",
       "      <th>message</th>\n",
       "      <th>year</th>\n",
       "      <th>month</th>\n",
       "      <th>day</th>\n",
       "      <th>hour</th>\n",
       "      <th>minute</th>\n",
       "    </tr>\n",
       "  </thead>\n",
       "  <tbody>\n",
       "    <tr>\n",
       "      <th>3</th>\n",
       "      <td>2022-08-29 11:20:00</td>\n",
       "      <td>Divyanshbhatt</td>\n",
       "      <td>Bhai apne naam likhdo hi likhke no. Save nhi h...</td>\n",
       "      <td>2022</td>\n",
       "      <td>8</td>\n",
       "      <td>29</td>\n",
       "      <td>11</td>\n",
       "      <td>20</td>\n",
       "    </tr>\n",
       "    <tr>\n",
       "      <th>12</th>\n",
       "      <td>2022-08-29 11:29:00</td>\n",
       "      <td>Jagga</td>\n",
       "      <td>@919929770849 betaa\\n</td>\n",
       "      <td>2022</td>\n",
       "      <td>8</td>\n",
       "      <td>29</td>\n",
       "      <td>11</td>\n",
       "      <td>29</td>\n",
       "    </tr>\n",
       "    <tr>\n",
       "      <th>14</th>\n",
       "      <td>2022-08-29 11:29:00</td>\n",
       "      <td>+91 99569 66499</td>\n",
       "      <td>😂😂😂\\n</td>\n",
       "      <td>2022</td>\n",
       "      <td>8</td>\n",
       "      <td>29</td>\n",
       "      <td>11</td>\n",
       "      <td>29</td>\n",
       "    </tr>\n",
       "    <tr>\n",
       "      <th>15</th>\n",
       "      <td>2022-08-29 11:29:00</td>\n",
       "      <td>Hunterbelt</td>\n",
       "      <td>😂😂😂\\n</td>\n",
       "      <td>2022</td>\n",
       "      <td>8</td>\n",
       "      <td>29</td>\n",
       "      <td>11</td>\n",
       "      <td>29</td>\n",
       "    </tr>\n",
       "    <tr>\n",
       "      <th>18</th>\n",
       "      <td>2022-08-29 11:34:00</td>\n",
       "      <td>Divyanshbhatt</td>\n",
       "      <td>Madarchod tu ky kr rha yahn😂😂\\n</td>\n",
       "      <td>2022</td>\n",
       "      <td>8</td>\n",
       "      <td>29</td>\n",
       "      <td>11</td>\n",
       "      <td>34</td>\n",
       "    </tr>\n",
       "    <tr>\n",
       "      <th>...</th>\n",
       "      <td>...</td>\n",
       "      <td>...</td>\n",
       "      <td>...</td>\n",
       "      <td>...</td>\n",
       "      <td>...</td>\n",
       "      <td>...</td>\n",
       "      <td>...</td>\n",
       "      <td>...</td>\n",
       "    </tr>\n",
       "    <tr>\n",
       "      <th>1700</th>\n",
       "      <td>2023-05-05 18:42:00</td>\n",
       "      <td>Bhavit.</td>\n",
       "      <td>Refer WIKIPEDIA 😌\\n</td>\n",
       "      <td>2023</td>\n",
       "      <td>5</td>\n",
       "      <td>5</td>\n",
       "      <td>18</td>\n",
       "      <td>42</td>\n",
       "    </tr>\n",
       "    <tr>\n",
       "      <th>1701</th>\n",
       "      <td>2023-05-05 18:43:00</td>\n",
       "      <td>Divyanshbhatt</td>\n",
       "      <td>harpal dosen't refers this!!🙂\\n</td>\n",
       "      <td>2023</td>\n",
       "      <td>5</td>\n",
       "      <td>5</td>\n",
       "      <td>18</td>\n",
       "      <td>43</td>\n",
       "    </tr>\n",
       "    <tr>\n",
       "      <th>1703</th>\n",
       "      <td>2023-05-16 16:16:00</td>\n",
       "      <td>Jagga</td>\n",
       "      <td>Epts ke marks\\n</td>\n",
       "      <td>2023</td>\n",
       "      <td>5</td>\n",
       "      <td>16</td>\n",
       "      <td>16</td>\n",
       "      <td>16</td>\n",
       "    </tr>\n",
       "    <tr>\n",
       "      <th>1704</th>\n",
       "      <td>2023-05-16 18:02:00</td>\n",
       "      <td>Vasu</td>\n",
       "      <td>Kisike paas sawarna sir ka number hai?\\n</td>\n",
       "      <td>2023</td>\n",
       "      <td>5</td>\n",
       "      <td>16</td>\n",
       "      <td>18</td>\n",
       "      <td>2</td>\n",
       "    </tr>\n",
       "    <tr>\n",
       "      <th>1705</th>\n",
       "      <td>2023-05-16 18:03:00</td>\n",
       "      <td>+91 88245 72846</td>\n",
       "      <td>95904 82722\\n</td>\n",
       "      <td>2023</td>\n",
       "      <td>5</td>\n",
       "      <td>16</td>\n",
       "      <td>18</td>\n",
       "      <td>3</td>\n",
       "    </tr>\n",
       "  </tbody>\n",
       "</table>\n",
       "<p>1563 rows × 8 columns</p>\n",
       "</div>"
      ],
      "text/plain": [
       "                    date             user  \\\n",
       "3    2022-08-29 11:20:00    Divyanshbhatt   \n",
       "12   2022-08-29 11:29:00            Jagga   \n",
       "14   2022-08-29 11:29:00  +91 99569 66499   \n",
       "15   2022-08-29 11:29:00       Hunterbelt   \n",
       "18   2022-08-29 11:34:00    Divyanshbhatt   \n",
       "...                  ...              ...   \n",
       "1700 2023-05-05 18:42:00          Bhavit.   \n",
       "1701 2023-05-05 18:43:00    Divyanshbhatt   \n",
       "1703 2023-05-16 16:16:00            Jagga   \n",
       "1704 2023-05-16 18:02:00             Vasu   \n",
       "1705 2023-05-16 18:03:00  +91 88245 72846   \n",
       "\n",
       "                                                message  year  month  day  \\\n",
       "3     Bhai apne naam likhdo hi likhke no. Save nhi h...  2022      8   29   \n",
       "12                                @919929770849 betaa\\n  2022      8   29   \n",
       "14                                                😂😂😂\\n  2022      8   29   \n",
       "15                                                😂😂😂\\n  2022      8   29   \n",
       "18                      Madarchod tu ky kr rha yahn😂😂\\n  2022      8   29   \n",
       "...                                                 ...   ...    ...  ...   \n",
       "1700                                Refer WIKIPEDIA 😌\\n  2023      5    5   \n",
       "1701                    harpal dosen't refers this!!🙂\\n  2023      5    5   \n",
       "1703                                    Epts ke marks\\n  2023      5   16   \n",
       "1704           Kisike paas sawarna sir ka number hai?\\n  2023      5   16   \n",
       "1705                                      95904 82722\\n  2023      5   16   \n",
       "\n",
       "      hour  minute  \n",
       "3       11      20  \n",
       "12      11      29  \n",
       "14      11      29  \n",
       "15      11      29  \n",
       "18      11      34  \n",
       "...    ...     ...  \n",
       "1700    18      42  \n",
       "1701    18      43  \n",
       "1703    16      16  \n",
       "1704    18       2  \n",
       "1705    18       3  \n",
       "\n",
       "[1563 rows x 8 columns]"
      ]
     },
     "execution_count": 33,
     "metadata": {},
     "output_type": "execute_result"
    }
   ],
   "source": [
    "temp"
   ]
  },
  {
   "cell_type": "code",
   "execution_count": 34,
   "id": "818008c4",
   "metadata": {},
   "outputs": [],
   "source": [
    "words=[]\n",
    "for message in temp['message']:\n",
    "    for word in message.lower().split():\n",
    "        if word not in stopwords:\n",
    "            words.append(word)\n",
    "    "
   ]
  },
  {
   "cell_type": "code",
   "execution_count": 35,
   "id": "b0db038a",
   "metadata": {},
   "outputs": [
    {
     "data": {
      "text/html": [
       "<div>\n",
       "<style scoped>\n",
       "    .dataframe tbody tr th:only-of-type {\n",
       "        vertical-align: middle;\n",
       "    }\n",
       "\n",
       "    .dataframe tbody tr th {\n",
       "        vertical-align: top;\n",
       "    }\n",
       "\n",
       "    .dataframe thead th {\n",
       "        text-align: right;\n",
       "    }\n",
       "</style>\n",
       "<table border=\"1\" class=\"dataframe\">\n",
       "  <thead>\n",
       "    <tr style=\"text-align: right;\">\n",
       "      <th></th>\n",
       "      <th>0</th>\n",
       "      <th>1</th>\n",
       "    </tr>\n",
       "  </thead>\n",
       "  <tbody>\n",
       "    <tr>\n",
       "      <th>0</th>\n",
       "      <td>lab</td>\n",
       "      <td>104</td>\n",
       "    </tr>\n",
       "    <tr>\n",
       "      <th>1</th>\n",
       "      <td>tut</td>\n",
       "      <td>100</td>\n",
       "    </tr>\n",
       "    <tr>\n",
       "      <th>2</th>\n",
       "      <td>message</td>\n",
       "      <td>69</td>\n",
       "    </tr>\n",
       "    <tr>\n",
       "      <th>3</th>\n",
       "      <td>deleted</td>\n",
       "      <td>65</td>\n",
       "    </tr>\n",
       "    <tr>\n",
       "      <th>4</th>\n",
       "      <td>cancel</td>\n",
       "      <td>49</td>\n",
       "    </tr>\n",
       "    <tr>\n",
       "      <th>5</th>\n",
       "      <td>+1</td>\n",
       "      <td>36</td>\n",
       "    </tr>\n",
       "    <tr>\n",
       "      <th>6</th>\n",
       "      <td>jana</td>\n",
       "      <td>32</td>\n",
       "    </tr>\n",
       "    <tr>\n",
       "      <th>7</th>\n",
       "      <td>dena</td>\n",
       "      <td>28</td>\n",
       "    </tr>\n",
       "    <tr>\n",
       "      <th>8</th>\n",
       "      <td>nss</td>\n",
       "      <td>27</td>\n",
       "    </tr>\n",
       "    <tr>\n",
       "      <th>9</th>\n",
       "      <td>yaar</td>\n",
       "      <td>24</td>\n",
       "    </tr>\n",
       "    <tr>\n",
       "      <th>10</th>\n",
       "      <td>bhej</td>\n",
       "      <td>24</td>\n",
       "    </tr>\n",
       "    <tr>\n",
       "      <th>11</th>\n",
       "      <td>file</td>\n",
       "      <td>24</td>\n",
       "    </tr>\n",
       "    <tr>\n",
       "      <th>12</th>\n",
       "      <td>assignment</td>\n",
       "      <td>24</td>\n",
       "    </tr>\n",
       "    <tr>\n",
       "      <th>13</th>\n",
       "      <td>jaana</td>\n",
       "      <td>22</td>\n",
       "    </tr>\n",
       "    <tr>\n",
       "      <th>14</th>\n",
       "      <td>jao</td>\n",
       "      <td>19</td>\n",
       "    </tr>\n",
       "    <tr>\n",
       "      <th>15</th>\n",
       "      <td>submit</td>\n",
       "      <td>19</td>\n",
       "    </tr>\n",
       "    <tr>\n",
       "      <th>16</th>\n",
       "      <td>😂😂</td>\n",
       "      <td>18</td>\n",
       "    </tr>\n",
       "    <tr>\n",
       "      <th>17</th>\n",
       "      <td>@919660556608</td>\n",
       "      <td>18</td>\n",
       "    </tr>\n",
       "    <tr>\n",
       "      <th>18</th>\n",
       "      <td>kya?</td>\n",
       "      <td>18</td>\n",
       "    </tr>\n",
       "    <tr>\n",
       "      <th>19</th>\n",
       "      <td>edc</td>\n",
       "      <td>17</td>\n",
       "    </tr>\n",
       "  </tbody>\n",
       "</table>\n",
       "</div>"
      ],
      "text/plain": [
       "                0    1\n",
       "0             lab  104\n",
       "1             tut  100\n",
       "2         message   69\n",
       "3         deleted   65\n",
       "4          cancel   49\n",
       "5              +1   36\n",
       "6            jana   32\n",
       "7            dena   28\n",
       "8             nss   27\n",
       "9            yaar   24\n",
       "10           bhej   24\n",
       "11           file   24\n",
       "12     assignment   24\n",
       "13          jaana   22\n",
       "14            jao   19\n",
       "15         submit   19\n",
       "16             😂😂   18\n",
       "17  @919660556608   18\n",
       "18           kya?   18\n",
       "19            edc   17"
      ]
     },
     "execution_count": 35,
     "metadata": {},
     "output_type": "execute_result"
    }
   ],
   "source": [
    "from collections import Counter\n",
    "pd.DataFrame(Counter(words).most_common(20))"
   ]
  },
  {
   "cell_type": "code",
   "execution_count": 36,
   "id": "52629101",
   "metadata": {},
   "outputs": [],
   "source": [
    "# !pip install emoji==1.7"
   ]
  },
  {
   "cell_type": "code",
   "execution_count": 37,
   "id": "259d93f5",
   "metadata": {},
   "outputs": [],
   "source": [
    "import emoji"
   ]
  },
  {
   "cell_type": "code",
   "execution_count": 38,
   "id": "e589cb14",
   "metadata": {},
   "outputs": [],
   "source": [
    "# print(emoji.UNICODE_EMOJI)"
   ]
  },
  {
   "cell_type": "code",
   "execution_count": 39,
   "id": "66c07651",
   "metadata": {
    "scrolled": true
   },
   "outputs": [],
   "source": [
    "emojis=[]\n",
    "for message in df['message']:\n",
    "    emojis.extend([c for c in message if c in emoji.UNICODE_EMOJI['en']])"
   ]
  },
  {
   "cell_type": "code",
   "execution_count": 40,
   "id": "af87a2c3",
   "metadata": {},
   "outputs": [
    {
     "data": {
      "text/html": [
       "<div>\n",
       "<style scoped>\n",
       "    .dataframe tbody tr th:only-of-type {\n",
       "        vertical-align: middle;\n",
       "    }\n",
       "\n",
       "    .dataframe tbody tr th {\n",
       "        vertical-align: top;\n",
       "    }\n",
       "\n",
       "    .dataframe thead th {\n",
       "        text-align: right;\n",
       "    }\n",
       "</style>\n",
       "<table border=\"1\" class=\"dataframe\">\n",
       "  <thead>\n",
       "    <tr style=\"text-align: right;\">\n",
       "      <th></th>\n",
       "      <th>date</th>\n",
       "      <th>user</th>\n",
       "      <th>message</th>\n",
       "      <th>year</th>\n",
       "      <th>month</th>\n",
       "      <th>day</th>\n",
       "      <th>hour</th>\n",
       "      <th>minute</th>\n",
       "    </tr>\n",
       "  </thead>\n",
       "  <tbody>\n",
       "    <tr>\n",
       "      <th>0</th>\n",
       "      <td>2022-08-29 11:19:00</td>\n",
       "      <td>group_notifications</td>\n",
       "      <td>Messages and calls are end-to-end encrypted. N...</td>\n",
       "      <td>2022</td>\n",
       "      <td>8</td>\n",
       "      <td>29</td>\n",
       "      <td>11</td>\n",
       "      <td>19</td>\n",
       "    </tr>\n",
       "    <tr>\n",
       "      <th>1</th>\n",
       "      <td>2022-08-29 11:18:00</td>\n",
       "      <td>group_notifications</td>\n",
       "      <td>Divyanshbhatt created group \"E1 ELECTRICAL ⚡⚡\"\\n</td>\n",
       "      <td>2022</td>\n",
       "      <td>8</td>\n",
       "      <td>29</td>\n",
       "      <td>11</td>\n",
       "      <td>18</td>\n",
       "    </tr>\n",
       "    <tr>\n",
       "      <th>2</th>\n",
       "      <td>2022-08-29 11:19:00</td>\n",
       "      <td>group_notifications</td>\n",
       "      <td>Jagga added you\\n</td>\n",
       "      <td>2022</td>\n",
       "      <td>8</td>\n",
       "      <td>29</td>\n",
       "      <td>11</td>\n",
       "      <td>19</td>\n",
       "    </tr>\n",
       "    <tr>\n",
       "      <th>3</th>\n",
       "      <td>2022-08-29 11:20:00</td>\n",
       "      <td>Divyanshbhatt</td>\n",
       "      <td>Bhai apne naam likhdo hi likhke no. Save nhi h...</td>\n",
       "      <td>2022</td>\n",
       "      <td>8</td>\n",
       "      <td>29</td>\n",
       "      <td>11</td>\n",
       "      <td>20</td>\n",
       "    </tr>\n",
       "    <tr>\n",
       "      <th>4</th>\n",
       "      <td>2022-08-29 11:20:00</td>\n",
       "      <td>group_notifications</td>\n",
       "      <td>Jagga added Yatharth Garg\\n</td>\n",
       "      <td>2022</td>\n",
       "      <td>8</td>\n",
       "      <td>29</td>\n",
       "      <td>11</td>\n",
       "      <td>20</td>\n",
       "    </tr>\n",
       "  </tbody>\n",
       "</table>\n",
       "</div>"
      ],
      "text/plain": [
       "                 date                 user  \\\n",
       "0 2022-08-29 11:19:00  group_notifications   \n",
       "1 2022-08-29 11:18:00  group_notifications   \n",
       "2 2022-08-29 11:19:00  group_notifications   \n",
       "3 2022-08-29 11:20:00        Divyanshbhatt   \n",
       "4 2022-08-29 11:20:00  group_notifications   \n",
       "\n",
       "                                             message  year  month  day  hour  \\\n",
       "0  Messages and calls are end-to-end encrypted. N...  2022      8   29    11   \n",
       "1   Divyanshbhatt created group \"E1 ELECTRICAL ⚡⚡\"\\n  2022      8   29    11   \n",
       "2                                  Jagga added you\\n  2022      8   29    11   \n",
       "3  Bhai apne naam likhdo hi likhke no. Save nhi h...  2022      8   29    11   \n",
       "4                        Jagga added Yatharth Garg\\n  2022      8   29    11   \n",
       "\n",
       "   minute  \n",
       "0      19  \n",
       "1      18  \n",
       "2      19  \n",
       "3      20  \n",
       "4      20  "
      ]
     },
     "execution_count": 40,
     "metadata": {},
     "output_type": "execute_result"
    }
   ],
   "source": [
    "df.head()"
   ]
  },
  {
   "cell_type": "code",
   "execution_count": 42,
   "id": "16a1b5a9",
   "metadata": {},
   "outputs": [],
   "source": [
    "from nltk.sentiment.vader import SentimentIntensityAnalyzer"
   ]
  },
  {
   "cell_type": "code",
   "execution_count": 44,
   "id": "17b8d733",
   "metadata": {},
   "outputs": [],
   "source": [
    "df=df[df['user']=='Divyanshbhatt']"
   ]
  },
  {
   "cell_type": "code",
   "execution_count": 45,
   "id": "0098b0b2",
   "metadata": {},
   "outputs": [
    {
     "data": {
      "text/plain": [
       "<bound method NDFrame.head of                     date           user  \\\n",
       "3    2022-08-29 11:20:00  Divyanshbhatt   \n",
       "18   2022-08-29 11:34:00  Divyanshbhatt   \n",
       "24   2022-08-29 11:42:00  Divyanshbhatt   \n",
       "25   2022-08-29 11:42:00  Divyanshbhatt   \n",
       "62   2022-08-29 13:21:00  Divyanshbhatt   \n",
       "...                  ...            ...   \n",
       "1682 2023-04-24 23:56:00  Divyanshbhatt   \n",
       "1689 2023-04-25 14:02:00  Divyanshbhatt   \n",
       "1690 2023-04-25 14:02:00  Divyanshbhatt   \n",
       "1699 2023-05-05 18:40:00  Divyanshbhatt   \n",
       "1701 2023-05-05 18:43:00  Divyanshbhatt   \n",
       "\n",
       "                                                message  year  month  day  \\\n",
       "3     Bhai apne naam likhdo hi likhke no. Save nhi h...  2022      8   29   \n",
       "18                      Madarchod tu ky kr rha yahn😂😂\\n  2022      8   29   \n",
       "24                                     Nikal ke dikha\\n  2022      8   29   \n",
       "25                                                 😂😂\\n  2022      8   29   \n",
       "62    To tereko kya lal maarket kolkata chahiye tha ...  2022      8   29   \n",
       "...                                                 ...   ...    ...  ...   \n",
       "1682                       Likhwai to fir kya krenge?\\n  2023      4   24   \n",
       "1689                                             Haan\\n  2023      4   25   \n",
       "1690                                       On the way\\n  2023      4   25   \n",
       "1699      stringing chart aur sag template bhejdo koi\\n  2023      5    5   \n",
       "1701                    harpal dosen't refers this!!🙂\\n  2023      5    5   \n",
       "\n",
       "      hour  minute  \n",
       "3       11      20  \n",
       "18      11      34  \n",
       "24      11      42  \n",
       "25      11      42  \n",
       "62      13      21  \n",
       "...    ...     ...  \n",
       "1682    23      56  \n",
       "1689    14       2  \n",
       "1690    14       2  \n",
       "1699    18      40  \n",
       "1701    18      43  \n",
       "\n",
       "[267 rows x 8 columns]>"
      ]
     },
     "execution_count": 45,
     "metadata": {},
     "output_type": "execute_result"
    }
   ],
   "source": [
    "df.head"
   ]
  },
  {
   "cell_type": "code",
   "execution_count": 46,
   "id": "a1ed08e9",
   "metadata": {},
   "outputs": [
    {
     "data": {
      "text/plain": [
       "3       Bhai apne naam likhdo hi likhke no. Save nhi h...\n",
       "18                        Madarchod tu ky kr rha yahn😂😂\\n\n",
       "24                                       Nikal ke dikha\\n\n",
       "25                                                   😂😂\\n\n",
       "62      To tereko kya lal maarket kolkata chahiye tha ...\n",
       "                              ...                        \n",
       "1682                         Likhwai to fir kya krenge?\\n\n",
       "1689                                               Haan\\n\n",
       "1690                                         On the way\\n\n",
       "1699        stringing chart aur sag template bhejdo koi\\n\n",
       "1701                      harpal dosen't refers this!!🙂\\n\n",
       "Name: message, Length: 267, dtype: object"
      ]
     },
     "execution_count": 46,
     "metadata": {},
     "output_type": "execute_result"
    }
   ],
   "source": [
    "df['message']"
   ]
  },
  {
   "cell_type": "code",
   "execution_count": 85,
   "id": "c4b4f21e",
   "metadata": {},
   "outputs": [],
   "source": [
    "analyzer=SentimentIntensityAnalyzer()\n",
    "def get_sentiment(text):\n",
    "\n",
    "    scores = analyzer.polarity_scores(text)\n",
    "\n",
    "#     sentiment = 1 if scores['pos'] > 0 else 0\n",
    "    sentiment = scores['compound']\n",
    "\n",
    "    return sentiment\n",
    "\n",
    "\n",
    "\n",
    "\n",
    "# apply get_sentiment function\n",
    "\n",
    "df['sentiment'] = df['message'].apply(get_sentiment)"
   ]
  },
  {
   "cell_type": "code",
   "execution_count": 87,
   "id": "2805c636",
   "metadata": {},
   "outputs": [
    {
     "data": {
      "text/html": [
       "<div>\n",
       "<style scoped>\n",
       "    .dataframe tbody tr th:only-of-type {\n",
       "        vertical-align: middle;\n",
       "    }\n",
       "\n",
       "    .dataframe tbody tr th {\n",
       "        vertical-align: top;\n",
       "    }\n",
       "\n",
       "    .dataframe thead th {\n",
       "        text-align: right;\n",
       "    }\n",
       "</style>\n",
       "<table border=\"1\" class=\"dataframe\">\n",
       "  <thead>\n",
       "    <tr style=\"text-align: right;\">\n",
       "      <th></th>\n",
       "      <th>user</th>\n",
       "      <th>message</th>\n",
       "      <th>sentiment</th>\n",
       "    </tr>\n",
       "  </thead>\n",
       "  <tbody>\n",
       "    <tr>\n",
       "      <th>3</th>\n",
       "      <td>Divyanshbhatt</td>\n",
       "      <td>Bhai apne naam likhdo hi likhke no. Save nhi h...</td>\n",
       "      <td>0.25</td>\n",
       "    </tr>\n",
       "    <tr>\n",
       "      <th>18</th>\n",
       "      <td>Divyanshbhatt</td>\n",
       "      <td>Madarchod tu ky kr rha yahn😂😂\\n</td>\n",
       "      <td>0.00</td>\n",
       "    </tr>\n",
       "    <tr>\n",
       "      <th>24</th>\n",
       "      <td>Divyanshbhatt</td>\n",
       "      <td>Nikal ke dikha\\n</td>\n",
       "      <td>0.00</td>\n",
       "    </tr>\n",
       "    <tr>\n",
       "      <th>25</th>\n",
       "      <td>Divyanshbhatt</td>\n",
       "      <td>😂😂\\n</td>\n",
       "      <td>0.00</td>\n",
       "    </tr>\n",
       "    <tr>\n",
       "      <th>62</th>\n",
       "      <td>Divyanshbhatt</td>\n",
       "      <td>To tereko kya lal maarket kolkata chahiye tha ...</td>\n",
       "      <td>0.00</td>\n",
       "    </tr>\n",
       "    <tr>\n",
       "      <th>...</th>\n",
       "      <td>...</td>\n",
       "      <td>...</td>\n",
       "      <td>...</td>\n",
       "    </tr>\n",
       "    <tr>\n",
       "      <th>1682</th>\n",
       "      <td>Divyanshbhatt</td>\n",
       "      <td>Likhwai to fir kya krenge?\\n</td>\n",
       "      <td>0.00</td>\n",
       "    </tr>\n",
       "    <tr>\n",
       "      <th>1689</th>\n",
       "      <td>Divyanshbhatt</td>\n",
       "      <td>Haan\\n</td>\n",
       "      <td>0.00</td>\n",
       "    </tr>\n",
       "    <tr>\n",
       "      <th>1690</th>\n",
       "      <td>Divyanshbhatt</td>\n",
       "      <td>On the way\\n</td>\n",
       "      <td>0.00</td>\n",
       "    </tr>\n",
       "    <tr>\n",
       "      <th>1699</th>\n",
       "      <td>Divyanshbhatt</td>\n",
       "      <td>stringing chart aur sag template bhejdo koi\\n</td>\n",
       "      <td>0.00</td>\n",
       "    </tr>\n",
       "    <tr>\n",
       "      <th>1701</th>\n",
       "      <td>Divyanshbhatt</td>\n",
       "      <td>harpal dosen't refers this!!🙂\\n</td>\n",
       "      <td>0.00</td>\n",
       "    </tr>\n",
       "  </tbody>\n",
       "</table>\n",
       "<p>267 rows × 3 columns</p>\n",
       "</div>"
      ],
      "text/plain": [
       "               user                                            message  \\\n",
       "3     Divyanshbhatt  Bhai apne naam likhdo hi likhke no. Save nhi h...   \n",
       "18    Divyanshbhatt                    Madarchod tu ky kr rha yahn😂😂\\n   \n",
       "24    Divyanshbhatt                                   Nikal ke dikha\\n   \n",
       "25    Divyanshbhatt                                               😂😂\\n   \n",
       "62    Divyanshbhatt  To tereko kya lal maarket kolkata chahiye tha ...   \n",
       "...             ...                                                ...   \n",
       "1682  Divyanshbhatt                       Likhwai to fir kya krenge?\\n   \n",
       "1689  Divyanshbhatt                                             Haan\\n   \n",
       "1690  Divyanshbhatt                                       On the way\\n   \n",
       "1699  Divyanshbhatt      stringing chart aur sag template bhejdo koi\\n   \n",
       "1701  Divyanshbhatt                    harpal dosen't refers this!!🙂\\n   \n",
       "\n",
       "      sentiment  \n",
       "3          0.25  \n",
       "18         0.00  \n",
       "24         0.00  \n",
       "25         0.00  \n",
       "62         0.00  \n",
       "...         ...  \n",
       "1682       0.00  \n",
       "1689       0.00  \n",
       "1690       0.00  \n",
       "1699       0.00  \n",
       "1701       0.00  \n",
       "\n",
       "[267 rows x 3 columns]"
      ]
     },
     "execution_count": 87,
     "metadata": {},
     "output_type": "execute_result"
    }
   ],
   "source": [
    "df[['user','message','sentiment']]"
   ]
  },
  {
   "cell_type": "code",
   "execution_count": 88,
   "id": "a304800f",
   "metadata": {},
   "outputs": [
    {
     "data": {
      "text/plain": [
       "{'neg': 0.164, 'neu': 0.597, 'pos': 0.239, 'compound': 0.25}"
      ]
     },
     "execution_count": 88,
     "metadata": {},
     "output_type": "execute_result"
    }
   ],
   "source": [
    "ss"
   ]
  },
  {
   "cell_type": "code",
   "execution_count": null,
   "id": "33295cec",
   "metadata": {},
   "outputs": [],
   "source": [
    "    sentences=df['message']\n",
    "    sentiment_df=df[df['user']==selected_user]\n",
    "    for sentence in sentences:\n",
    "        # print(sentence)\n",
    "        ss=sentiments.polarity_scores(sentence)\n",
    "        for k in sorted(ss):\n",
    "            sentiment_df.append(ss['compound'])\n",
    "        # print()"
   ]
  }
 ],
 "metadata": {
  "kernelspec": {
   "display_name": "Python 3 (ipykernel)",
   "language": "python",
   "name": "python3"
  },
  "language_info": {
   "codemirror_mode": {
    "name": "ipython",
    "version": 3
   },
   "file_extension": ".py",
   "mimetype": "text/x-python",
   "name": "python",
   "nbconvert_exporter": "python",
   "pygments_lexer": "ipython3",
   "version": "3.9.12"
  }
 },
 "nbformat": 4,
 "nbformat_minor": 5
}
